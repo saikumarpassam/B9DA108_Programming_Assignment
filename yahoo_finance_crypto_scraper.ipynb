{
  "cells": [
    {
      "cell_type": "code",
      "source": [
        "# Install selenium first and the rest of the needed modules"
      ],
      "metadata": {
        "id": "eOrvVLrS04cD"
      },
      "id": "eOrvVLrS04cD",
      "execution_count": 19,
      "outputs": []
    },
    {
      "cell_type": "markdown",
      "source": [],
      "metadata": {
        "id": "Y9SdFA2R08_5"
      },
      "id": "Y9SdFA2R08_5"
    },
    {
      "cell_type": "code",
      "source": [
        "!pip install requests --quiet\n",
        "!pip install beautifulsoup4 --quiet\n",
        "!apt install chromium-chromedriver --quiet\n"
      ],
      "metadata": {
        "id": "IkhFwE1V1jub",
        "colab": {
          "base_uri": "https://localhost:8080/"
        },
        "outputId": "28d80577-36c8-47bc-a20d-cff26f1e161c"
      },
      "id": "IkhFwE1V1jub",
      "execution_count": 20,
      "outputs": [
        {
          "output_type": "stream",
          "name": "stdout",
          "text": [
            "\u001b[?25l\r\u001b[K     |██▋                             | 10 kB 19.4 MB/s eta 0:00:01\r\u001b[K     |█████▏                          | 20 kB 7.6 MB/s eta 0:00:01\r\u001b[K     |███████▊                        | 30 kB 10.1 MB/s eta 0:00:01\r\u001b[K     |██████████▎                     | 40 kB 3.7 MB/s eta 0:00:01\r\u001b[K     |████████████▉                   | 51 kB 4.0 MB/s eta 0:00:01\r\u001b[K     |███████████████▍                | 61 kB 4.7 MB/s eta 0:00:01\r\u001b[K     |██████████████████              | 71 kB 4.8 MB/s eta 0:00:01\r\u001b[K     |████████████████████▌           | 81 kB 4.9 MB/s eta 0:00:01\r\u001b[K     |███████████████████████         | 92 kB 5.4 MB/s eta 0:00:01\r\u001b[K     |█████████████████████████▋      | 102 kB 4.2 MB/s eta 0:00:01\r\u001b[K     |████████████████████████████▏   | 112 kB 4.2 MB/s eta 0:00:01\r\u001b[K     |██████████████████████████████▊ | 122 kB 4.2 MB/s eta 0:00:01\r\u001b[K     |████████████████████████████████| 127 kB 4.2 MB/s \n",
            "\u001b[31mERROR: pip's dependency resolver does not currently take into account all the packages that are installed. This behaviour is the source of the following dependency conflicts.\n",
            "selenium 4.7.2 requires urllib3[socks]~=1.26, but you have urllib3 1.25.11 which is incompatible.\u001b[0m\n",
            "\u001b[?25hReading package lists...\n",
            "Building dependency tree...\n",
            "Reading state information...\n",
            "chromium-chromedriver is already the newest version (108.0.5359.71-0ubuntu0.18.04.5).\n",
            "The following package was automatically installed and is no longer required:\n",
            "  libnvidia-common-460\n",
            "Use 'apt autoremove' to remove it.\n",
            "0 upgraded, 0 newly installed, 0 to remove and 20 not upgraded.\n"
          ]
        }
      ]
    },
    {
      "cell_type": "code",
      "source": [
        "%%bash\n",
        "sudo apt-get update\n",
        "sudo pip install selenium"
      ],
      "metadata": {
        "colab": {
          "base_uri": "https://localhost:8080/"
        },
        "id": "3XCpx_SR4-UR",
        "outputId": "65e83e67-f870-4b76-dd4f-6895ca6d8624"
      },
      "id": "3XCpx_SR4-UR",
      "execution_count": 28,
      "outputs": [
        {
          "output_type": "stream",
          "name": "stdout",
          "text": [
            "Hit:1 https://cloud.r-project.org/bin/linux/ubuntu bionic-cran40/ InRelease\n",
            "Ign:2 https://developer.download.nvidia.com/compute/machine-learning/repos/ubuntu1804/x86_64  InRelease\n",
            "Hit:3 https://developer.download.nvidia.com/compute/cuda/repos/ubuntu1804/x86_64  InRelease\n",
            "Hit:4 https://developer.download.nvidia.com/compute/machine-learning/repos/ubuntu1804/x86_64  Release\n",
            "Hit:6 http://ppa.launchpad.net/c2d4u.team/c2d4u4.0+/ubuntu bionic InRelease\n",
            "Hit:7 http://security.ubuntu.com/ubuntu bionic-security InRelease\n",
            "Hit:8 http://archive.ubuntu.com/ubuntu bionic InRelease\n",
            "Hit:9 http://archive.ubuntu.com/ubuntu bionic-updates InRelease\n",
            "Hit:10 http://archive.ubuntu.com/ubuntu bionic-backports InRelease\n",
            "Hit:11 http://ppa.launchpad.net/cran/libgit2/ubuntu bionic InRelease\n",
            "Hit:12 http://ppa.launchpad.net/deadsnakes/ppa/ubuntu bionic InRelease\n",
            "Hit:13 http://ppa.launchpad.net/graphics-drivers/ppa/ubuntu bionic InRelease\n",
            "Reading package lists...\n",
            "Looking in indexes: https://pypi.org/simple, https://us-python.pkg.dev/colab-wheels/public/simple/\n",
            "Requirement already satisfied: selenium in /usr/local/lib/python3.8/dist-packages (4.7.2)\n",
            "Requirement already satisfied: urllib3[socks]~=1.26 in /usr/local/lib/python3.8/dist-packages (from selenium) (1.26.13)\n",
            "Requirement already satisfied: trio~=0.17 in /usr/local/lib/python3.8/dist-packages (from selenium) (0.22.0)\n",
            "Requirement already satisfied: trio-websocket~=0.9 in /usr/local/lib/python3.8/dist-packages (from selenium) (0.9.2)\n",
            "Requirement already satisfied: certifi>=2021.10.8 in /usr/local/lib/python3.8/dist-packages (from selenium) (2022.12.7)\n",
            "Requirement already satisfied: exceptiongroup>=1.0.0rc9 in /usr/local/lib/python3.8/dist-packages (from trio~=0.17->selenium) (1.0.4)\n",
            "Requirement already satisfied: attrs>=19.2.0 in /usr/local/lib/python3.8/dist-packages (from trio~=0.17->selenium) (22.1.0)\n",
            "Requirement already satisfied: idna in /usr/local/lib/python3.8/dist-packages (from trio~=0.17->selenium) (2.10)\n",
            "Requirement already satisfied: sortedcontainers in /usr/local/lib/python3.8/dist-packages (from trio~=0.17->selenium) (2.4.0)\n",
            "Requirement already satisfied: async-generator>=1.9 in /usr/local/lib/python3.8/dist-packages (from trio~=0.17->selenium) (1.10)\n",
            "Requirement already satisfied: outcome in /usr/local/lib/python3.8/dist-packages (from trio~=0.17->selenium) (1.2.0)\n",
            "Requirement already satisfied: sniffio in /usr/local/lib/python3.8/dist-packages (from trio~=0.17->selenium) (1.3.0)\n",
            "Requirement already satisfied: wsproto>=0.14 in /usr/local/lib/python3.8/dist-packages (from trio-websocket~=0.9->selenium) (1.2.0)\n",
            "Requirement already satisfied: PySocks!=1.5.7,<2.0,>=1.5.6 in /usr/local/lib/python3.8/dist-packages (from urllib3[socks]~=1.26->selenium) (1.7.1)\n",
            "Requirement already satisfied: h11<1,>=0.9.0 in /usr/local/lib/python3.8/dist-packages (from wsproto>=0.14->trio-websocket~=0.9->selenium) (0.14.0)\n"
          ]
        }
      ]
    },
    {
      "cell_type": "code",
      "source": [
        "!apt install mongodb > log"
      ],
      "metadata": {
        "colab": {
          "base_uri": "https://localhost:8080/"
        },
        "id": "UtdkT-9FOJOG",
        "outputId": "562079fd-d348-473e-eb18-0a4392b2882c"
      },
      "id": "UtdkT-9FOJOG",
      "execution_count": 22,
      "outputs": [
        {
          "output_type": "stream",
          "name": "stdout",
          "text": [
            "\n",
            "WARNING: apt does not have a stable CLI interface. Use with caution in scripts.\n",
            "\n"
          ]
        }
      ]
    },
    {
      "cell_type": "code",
      "source": [
        "# Start mongodb service just in case it is not running\n",
        "!service mongodb start"
      ],
      "metadata": {
        "colab": {
          "base_uri": "https://localhost:8080/"
        },
        "id": "7LetOcj-Ov8X",
        "outputId": "484faaeb-27d0-4502-bba2-a8a230df742f"
      },
      "id": "7LetOcj-Ov8X",
      "execution_count": 23,
      "outputs": [
        {
          "output_type": "stream",
          "name": "stdout",
          "text": [
            " * Starting database mongodb\n",
            "   ...done.\n"
          ]
        }
      ]
    },
    {
      "cell_type": "code",
      "source": [
        "# Check if mongo service in running successfully\n",
        "%%bash\n",
        "ps -ef | grep mongo"
      ],
      "metadata": {
        "colab": {
          "base_uri": "https://localhost:8080/"
        },
        "id": "PTwISGrqFrPd",
        "outputId": "78a2aafa-fd23-4b71-da6f-fb2eda90b4a2"
      },
      "id": "PTwISGrqFrPd",
      "execution_count": 24,
      "outputs": [
        {
          "output_type": "stream",
          "name": "stdout",
          "text": [
            "mongodb     1581       1  0 12:37 ?        00:00:03 /usr/bin/mongod --config /etc/mongodb.conf\n",
            "root        2637    2635  0 12:52 ?        00:00:00 grep mongo\n"
          ]
        }
      ]
    },
    {
      "cell_type": "code",
      "source": [],
      "metadata": {
        "id": "2WLWMUiyF6_I"
      },
      "id": "2WLWMUiyF6_I",
      "execution_count": 7,
      "outputs": []
    },
    {
      "cell_type": "code",
      "execution_count": 8,
      "id": "b2055e63",
      "metadata": {
        "id": "b2055e63",
        "colab": {
          "base_uri": "https://localhost:8080/"
        },
        "outputId": "e8cec9cb-265a-4eb0-818f-f5c798fd0b47"
      },
      "outputs": [
        {
          "output_type": "stream",
          "name": "stderr",
          "text": [
            "/usr/local/lib/python3.8/dist-packages/requests/__init__.py:89: RequestsDependencyWarning: urllib3 (1.26.13) or chardet (3.0.4) doesn't match a supported version!\n",
            "  warnings.warn(\"urllib3 ({}) or chardet ({}) doesn't match a supported \"\n"
          ]
        }
      ],
      "source": [
        "# Libraries\n",
        "import pandas as pd\n",
        "import requests\n",
        "import smtplib\n",
        "import time\n",
        "import csv\n",
        "import os\n",
        "\n",
        "from bs4 import BeautifulSoup as bs\n",
        "from urllib.request import urlopen\n",
        "from pymongo import MongoClient\n",
        "from io import StringIO\n",
        "from IPython.display import display\n",
        "\n",
        "from selenium.webdriver.chrome.options import Options\n",
        "from selenium.webdriver.chrome.service import Service\n",
        "from selenium import webdriver\n",
        "from selenium.webdriver.common.by import By\n",
        "from selenium.webdriver.support.ui import WebDriverWait\n",
        "from selenium.webdriver.support import expected_conditions as EC\n"
      ]
    },
    {
      "cell_type": "markdown",
      "source": [
        "## Instantiate Mongodb"
      ],
      "metadata": {
        "id": "efFDW91qBlfX"
      },
      "id": "efFDW91qBlfX"
    },
    {
      "cell_type": "code",
      "execution_count": 29,
      "id": "36d07d2c",
      "metadata": {
        "id": "36d07d2c"
      },
      "outputs": [],
      "source": [
        "mongoClient = MongoClient()\n",
        "client = MongoClient()\n",
        "\n",
        "DATABASE_URI=\"mongodb://localhost:27017\"\n",
        "DATABASE=\"cryptocurrencies\"\n",
        "CRYPTO_COLLECTION=\"cryptos\"\n",
        "\n",
        "db = client[DATABASE]\n",
        "\n",
        "# Create collection if not existing\n",
        "if \"cryptos\" not in db.list_collection_names():\n",
        "  db.create_collection(CRYPTO_COLLECTION)\n"
      ]
    },
    {
      "cell_type": "markdown",
      "id": "3ee6d8e5",
      "metadata": {
        "id": "3ee6d8e5"
      },
      "source": [
        "## Set up the BASE URL and Test it"
      ]
    },
    {
      "cell_type": "code",
      "execution_count": 10,
      "id": "dd6c6a75",
      "metadata": {
        "colab": {
          "base_uri": "https://localhost:8080/"
        },
        "id": "dd6c6a75",
        "outputId": "eeb85be1-9376-4c0b-d12e-3ae6c64be456"
      },
      "outputs": [
        {
          "output_type": "stream",
          "name": "stdout",
          "text": [
            "response.ok : True , response.status_code : 200\n"
          ]
        }
      ],
      "source": [
        "# Any variables defined in CAPITAL belong to the GLOBAL variables\n",
        "BASE_URL = 'https://finance.yahoo.com'\n",
        "\n",
        "response = requests.get(BASE_URL)\n",
        "\n",
        "if response: print(\"response.ok : {} , response.status_code : {}\".format(response.ok , response.status_code))"
      ]
    },
    {
      "cell_type": "markdown",
      "id": "104b519c",
      "metadata": {
        "id": "104b519c"
      },
      "source": [
        "## Set Up the Web Driver\n",
        "* Ensure the driver is downloaded and within the path"
      ]
    },
    {
      "cell_type": "code",
      "execution_count": 26,
      "id": "4c37a3fc",
      "metadata": {
        "id": "4c37a3fc"
      },
      "outputs": [],
      "source": [
        "\n",
        "def get_driver(url):\n",
        "    \"\"\"Return web driver\"\"\"\n",
        "    chrome_options = Options()\n",
        "    chrome_options.add_argument('--no-sandbox')\n",
        "    chrome_options.add_argument('--disable-dev-shm-usage')\n",
        "    chrome_options.add_argument('--headless')\n",
        "    chrome_options.add_argument('--start-maximized') #\n",
        "    chrome_options.add_argument('--start-fullscreen')#\n",
        "    chrome_options.add_argument('--single-process')#\n",
        "    # serv = Service(os.getcwd()+'/chromedriver')\n",
        "    driver = webdriver.Chrome('chromedriver', options=chrome_options)\n",
        "    driver.get(url)\n",
        "    return driver"
      ]
    },
    {
      "cell_type": "markdown",
      "id": "349682a5",
      "metadata": {
        "id": "349682a5"
      },
      "source": [
        "## Data Extraction"
      ]
    },
    {
      "cell_type": "code",
      "execution_count": 27,
      "id": "e5b95136",
      "metadata": {
        "id": "e5b95136"
      },
      "outputs": [],
      "source": [
        "def get_table_header(driver):\n",
        "    \"\"\"Return Table columns in list form \"\"\"\n",
        "    header = driver.find_elements(By.TAG_NAME, value= 'th')\n",
        "    header_list = [item.text for index, item in enumerate(header) if index < 10]\n",
        "    return header_list\n",
        "\n",
        "def get_table_rows(driver):\n",
        "    \"\"\"Get number of rows available on the page \"\"\"\n",
        "    tablerows = len(driver.find_elements(By.XPATH, value='//*[@id=\"scr-res-table\"]/div[1]/table/tbody/tr'))\n",
        "    return tablerows  "
      ]
    },
    {
      "cell_type": "markdown",
      "id": "06c56a26",
      "metadata": {
        "id": "06c56a26"
      },
      "source": [
        "## Data Cleaning"
      ]
    },
    {
      "cell_type": "code",
      "execution_count": 13,
      "id": "ad6a7583",
      "metadata": {
        "id": "ad6a7583"
      },
      "outputs": [],
      "source": [
        "def parse_table_rows(rownum, driver, header_list):\n",
        "    \"\"\"get the data for one row at a time and return column value in the form of dictionary\"\"\"\n",
        "    row_dictionary = {}\n",
        "    #time.sleep(1/3)\n",
        "    for index , item in enumerate(header_list):\n",
        "        time.sleep(1/20)\n",
        "        column_xpath = '//*[@id=\"scr-res-table\"]/div[1]/table/tbody/tr[{}]/td[{}]'.format(rownum, index+1)\n",
        "        row_dictionary[item] = driver.find_element(By.XPATH, value=column_xpath).text\n",
        "    return row_dictionary\n",
        "\n",
        "def parse_multiple_pages(driver, total_crypto):\n",
        "    \"\"\"Loop through each row, perform Next button click at the end of page \n",
        "    return total_crypto numbers of rows \n",
        "    \"\"\"\n",
        "    table_data = []\n",
        "    page_num = 1\n",
        "    is_scraping = True\n",
        "    header_list = get_table_header(driver)\n",
        "\n",
        "    while is_scraping:\n",
        "        table_rows = get_table_rows(driver)\n",
        "        print('Found {} rows on Page : {}'.format(table_rows, page_num))\n",
        "        print('Parsing Page : {}'.format(page_num))\n",
        "        table_data += [parse_table_rows(i, driver, header_list) for i in range (1, table_rows + 1)]\n",
        "        total_count = len(table_data)\n",
        "        print('Total rows scraped : {}'.format(total_count))\n",
        "        if total_count >= total_crypto:\n",
        "            print('Done Parsing..')\n",
        "            is_scraping = False\n",
        "        else:    \n",
        "            print('Clicking Next Button')\n",
        "            element = WebDriverWait(driver, 10).until(EC.presence_of_element_located((By.XPATH, '//*[@id=\"scr-res-table\"]/div[2]/button[3]')))\n",
        "            element.click() \n",
        "            page_num += 1\n",
        "    return table_data\n"
      ]
    },
    {
      "cell_type": "markdown",
      "id": "6eca40b3",
      "metadata": {
        "id": "6eca40b3"
      },
      "source": [
        "## Ingesting Data to Storage, i.e MongoDB"
      ]
    },
    {
      "cell_type": "code",
      "execution_count": 14,
      "id": "8f459524",
      "metadata": {
        "id": "8f459524"
      },
      "outputs": [],
      "source": [
        "def save_data_tomongo(dataframe):\n",
        "    # Saves dataframe to mongodb\n",
        "    db.cryptos.insert_many(dataframe.to_dict(orient=\"records\"))\n",
        "    print(f\"Successfully saved cleaned data to Database!\")"
      ]
    },
    {
      "cell_type": "markdown",
      "id": "77337a94",
      "metadata": {
        "id": "77337a94"
      },
      "source": [
        "## The Factory Code"
      ]
    },
    {
      "cell_type": "code",
      "execution_count": 31,
      "id": "9718a5e6",
      "metadata": {
        "colab": {
          "base_uri": "https://localhost:8080/",
          "height": 559
        },
        "id": "9718a5e6",
        "outputId": "87cb2e39-c8eb-4bd8-c23d-b64b0aec0f95"
      },
      "outputs": [
        {
          "output_type": "stream",
          "name": "stdout",
          "text": [
            "Creating driver\n",
            "Found 25 rows on Page : 1\n",
            "Parsing Page : 1\n",
            "Total rows scraped : 25\n",
            "Clicking Next Button\n",
            "Found 25 rows on Page : 2\n",
            "Parsing Page : 2\n",
            "Total rows scraped : 50\n",
            "Done Parsing..\n",
            "Save the data to a CSV\n"
          ]
        },
        {
          "output_type": "display_data",
          "data": {
            "text/plain": [
              "     Symbol          Name Price (Intraday)   Change % Change Market Cap  \\\n",
              "0   BTC-USD   Bitcoin USD        16,761.07   +21.06   +0.13%   322.449B   \n",
              "1   ETH-USD  Ethereum USD         1,187.58    +4.52   +0.38%   145.328B   \n",
              "2  USDT-USD    Tether USD           1.0001  +0.0000   +0.00%    66.166B   \n",
              "3  USDC-USD  USD Coin USD           1.0001  -0.0001   -0.01%    45.074B   \n",
              "4   BNB-USD       BNB USD           250.20    +3.06   +1.24%    40.024B   \n",
              "\n",
              "  Volume in Currency (Since 0:00 UTC) Volume in Currency (24Hr)  \\\n",
              "0                              12.79B                    12.79B   \n",
              "1                              3.927B                    3.927B   \n",
              "2                             16.562B                   16.562B   \n",
              "3                              1.895B                    1.895B   \n",
              "4                            729.338M                  729.338M   \n",
              "\n",
              "  Total Volume All Currencies (24Hr) Circulating Supply  \n",
              "0                             12.79B            19.238M  \n",
              "1                             3.927B           122.374M  \n",
              "2                            16.562B            66.157B  \n",
              "3                             1.895B             45.07B  \n",
              "4                           729.338M           159.967M  "
            ],
            "text/html": [
              "\n",
              "  <div id=\"df-4a4d1340-bca4-4030-be1b-5cdade91351b\">\n",
              "    <div class=\"colab-df-container\">\n",
              "      <div>\n",
              "<style scoped>\n",
              "    .dataframe tbody tr th:only-of-type {\n",
              "        vertical-align: middle;\n",
              "    }\n",
              "\n",
              "    .dataframe tbody tr th {\n",
              "        vertical-align: top;\n",
              "    }\n",
              "\n",
              "    .dataframe thead th {\n",
              "        text-align: right;\n",
              "    }\n",
              "</style>\n",
              "<table border=\"1\" class=\"dataframe\">\n",
              "  <thead>\n",
              "    <tr style=\"text-align: right;\">\n",
              "      <th></th>\n",
              "      <th>Symbol</th>\n",
              "      <th>Name</th>\n",
              "      <th>Price (Intraday)</th>\n",
              "      <th>Change</th>\n",
              "      <th>% Change</th>\n",
              "      <th>Market Cap</th>\n",
              "      <th>Volume in Currency (Since 0:00 UTC)</th>\n",
              "      <th>Volume in Currency (24Hr)</th>\n",
              "      <th>Total Volume All Currencies (24Hr)</th>\n",
              "      <th>Circulating Supply</th>\n",
              "    </tr>\n",
              "  </thead>\n",
              "  <tbody>\n",
              "    <tr>\n",
              "      <th>0</th>\n",
              "      <td>BTC-USD</td>\n",
              "      <td>Bitcoin USD</td>\n",
              "      <td>16,761.07</td>\n",
              "      <td>+21.06</td>\n",
              "      <td>+0.13%</td>\n",
              "      <td>322.449B</td>\n",
              "      <td>12.79B</td>\n",
              "      <td>12.79B</td>\n",
              "      <td>12.79B</td>\n",
              "      <td>19.238M</td>\n",
              "    </tr>\n",
              "    <tr>\n",
              "      <th>1</th>\n",
              "      <td>ETH-USD</td>\n",
              "      <td>Ethereum USD</td>\n",
              "      <td>1,187.58</td>\n",
              "      <td>+4.52</td>\n",
              "      <td>+0.38%</td>\n",
              "      <td>145.328B</td>\n",
              "      <td>3.927B</td>\n",
              "      <td>3.927B</td>\n",
              "      <td>3.927B</td>\n",
              "      <td>122.374M</td>\n",
              "    </tr>\n",
              "    <tr>\n",
              "      <th>2</th>\n",
              "      <td>USDT-USD</td>\n",
              "      <td>Tether USD</td>\n",
              "      <td>1.0001</td>\n",
              "      <td>+0.0000</td>\n",
              "      <td>+0.00%</td>\n",
              "      <td>66.166B</td>\n",
              "      <td>16.562B</td>\n",
              "      <td>16.562B</td>\n",
              "      <td>16.562B</td>\n",
              "      <td>66.157B</td>\n",
              "    </tr>\n",
              "    <tr>\n",
              "      <th>3</th>\n",
              "      <td>USDC-USD</td>\n",
              "      <td>USD Coin USD</td>\n",
              "      <td>1.0001</td>\n",
              "      <td>-0.0001</td>\n",
              "      <td>-0.01%</td>\n",
              "      <td>45.074B</td>\n",
              "      <td>1.895B</td>\n",
              "      <td>1.895B</td>\n",
              "      <td>1.895B</td>\n",
              "      <td>45.07B</td>\n",
              "    </tr>\n",
              "    <tr>\n",
              "      <th>4</th>\n",
              "      <td>BNB-USD</td>\n",
              "      <td>BNB USD</td>\n",
              "      <td>250.20</td>\n",
              "      <td>+3.06</td>\n",
              "      <td>+1.24%</td>\n",
              "      <td>40.024B</td>\n",
              "      <td>729.338M</td>\n",
              "      <td>729.338M</td>\n",
              "      <td>729.338M</td>\n",
              "      <td>159.967M</td>\n",
              "    </tr>\n",
              "  </tbody>\n",
              "</table>\n",
              "</div>\n",
              "      <button class=\"colab-df-convert\" onclick=\"convertToInteractive('df-4a4d1340-bca4-4030-be1b-5cdade91351b')\"\n",
              "              title=\"Convert this dataframe to an interactive table.\"\n",
              "              style=\"display:none;\">\n",
              "        \n",
              "  <svg xmlns=\"http://www.w3.org/2000/svg\" height=\"24px\"viewBox=\"0 0 24 24\"\n",
              "       width=\"24px\">\n",
              "    <path d=\"M0 0h24v24H0V0z\" fill=\"none\"/>\n",
              "    <path d=\"M18.56 5.44l.94 2.06.94-2.06 2.06-.94-2.06-.94-.94-2.06-.94 2.06-2.06.94zm-11 1L8.5 8.5l.94-2.06 2.06-.94-2.06-.94L8.5 2.5l-.94 2.06-2.06.94zm10 10l.94 2.06.94-2.06 2.06-.94-2.06-.94-.94-2.06-.94 2.06-2.06.94z\"/><path d=\"M17.41 7.96l-1.37-1.37c-.4-.4-.92-.59-1.43-.59-.52 0-1.04.2-1.43.59L10.3 9.45l-7.72 7.72c-.78.78-.78 2.05 0 2.83L4 21.41c.39.39.9.59 1.41.59.51 0 1.02-.2 1.41-.59l7.78-7.78 2.81-2.81c.8-.78.8-2.07 0-2.86zM5.41 20L4 18.59l7.72-7.72 1.47 1.35L5.41 20z\"/>\n",
              "  </svg>\n",
              "      </button>\n",
              "      \n",
              "  <style>\n",
              "    .colab-df-container {\n",
              "      display:flex;\n",
              "      flex-wrap:wrap;\n",
              "      gap: 12px;\n",
              "    }\n",
              "\n",
              "    .colab-df-convert {\n",
              "      background-color: #E8F0FE;\n",
              "      border: none;\n",
              "      border-radius: 50%;\n",
              "      cursor: pointer;\n",
              "      display: none;\n",
              "      fill: #1967D2;\n",
              "      height: 32px;\n",
              "      padding: 0 0 0 0;\n",
              "      width: 32px;\n",
              "    }\n",
              "\n",
              "    .colab-df-convert:hover {\n",
              "      background-color: #E2EBFA;\n",
              "      box-shadow: 0px 1px 2px rgba(60, 64, 67, 0.3), 0px 1px 3px 1px rgba(60, 64, 67, 0.15);\n",
              "      fill: #174EA6;\n",
              "    }\n",
              "\n",
              "    [theme=dark] .colab-df-convert {\n",
              "      background-color: #3B4455;\n",
              "      fill: #D2E3FC;\n",
              "    }\n",
              "\n",
              "    [theme=dark] .colab-df-convert:hover {\n",
              "      background-color: #434B5C;\n",
              "      box-shadow: 0px 1px 3px 1px rgba(0, 0, 0, 0.15);\n",
              "      filter: drop-shadow(0px 1px 2px rgba(0, 0, 0, 0.3));\n",
              "      fill: #FFFFFF;\n",
              "    }\n",
              "  </style>\n",
              "\n",
              "      <script>\n",
              "        const buttonEl =\n",
              "          document.querySelector('#df-4a4d1340-bca4-4030-be1b-5cdade91351b button.colab-df-convert');\n",
              "        buttonEl.style.display =\n",
              "          google.colab.kernel.accessAllowed ? 'block' : 'none';\n",
              "\n",
              "        async function convertToInteractive(key) {\n",
              "          const element = document.querySelector('#df-4a4d1340-bca4-4030-be1b-5cdade91351b');\n",
              "          const dataTable =\n",
              "            await google.colab.kernel.invokeFunction('convertToInteractive',\n",
              "                                                     [key], {});\n",
              "          if (!dataTable) return;\n",
              "\n",
              "          const docLinkHtml = 'Like what you see? Visit the ' +\n",
              "            '<a target=\"_blank\" href=https://colab.research.google.com/notebooks/data_table.ipynb>data table notebook</a>'\n",
              "            + ' to learn more about interactive tables.';\n",
              "          element.innerHTML = '';\n",
              "          dataTable['output_type'] = 'display_data';\n",
              "          await google.colab.output.renderOutput(dataTable, element);\n",
              "          const docLink = document.createElement('div');\n",
              "          docLink.innerHTML = docLinkHtml;\n",
              "          element.appendChild(docLink);\n",
              "        }\n",
              "      </script>\n",
              "    </div>\n",
              "  </div>\n",
              "  "
            ]
          },
          "metadata": {}
        },
        {
          "output_type": "stream",
          "name": "stdout",
          "text": [
            "Save to mongodb\n",
            "Successfully saved cleaned data to Database!\n",
            "Processing Done\n"
          ]
        }
      ],
      "source": [
        "\n",
        "\n",
        "\n",
        "def scrape_yahoo_crypto(url, total_crypto, path=None):\n",
        "    \"\"\"Get the list of yahoo finance crypto-currencies and write them to CSV file \"\"\"\n",
        "    if path is None:\n",
        "        path = 'crypto-currencies.csv'\n",
        "    print('Creating driver')\n",
        "    driver = get_driver(url)    \n",
        "    table_data = parse_multiple_pages(driver, total_crypto)\n",
        "    driver.close()\n",
        "    driver.quit()\n",
        "    print('Save the data to a CSV')\n",
        "    table_df = pd.DataFrame(table_data)\n",
        "    table_df.to_csv(path, index=None)\n",
        "    display(table_df.head())\n",
        "    print(\"Save to mongodb\")\n",
        "    save_data_tomongo(table_df)\n",
        "    return table_df \n",
        "\n",
        "if __name__ == \"__main__\" :\n",
        "    \n",
        "    YAHOO_FINANCE_URL = BASE_URL+'/crypto'\n",
        "    TOTAL_CRYPTO = 50\n",
        "    crypto_df = scrape_yahoo_crypto(YAHOO_FINANCE_URL, TOTAL_CRYPTO,'crypto-currencies.csv')\n",
        "\n",
        "print(\"Processing Done\")"
      ]
    },
    {
      "cell_type": "code",
      "source": [
        "def check_successful_dataingestion():\n",
        "  for entry in db.cryptos.find():\n",
        "    print(entry)\n"
      ],
      "metadata": {
        "id": "bkbM0KG2MEIZ"
      },
      "id": "bkbM0KG2MEIZ",
      "execution_count": 16,
      "outputs": []
    },
    {
      "cell_type": "code",
      "source": [
        "\n",
        "check_successful_dataingestion()"
      ],
      "metadata": {
        "colab": {
          "base_uri": "https://localhost:8080/"
        },
        "id": "RVx_Hv-AQi_H",
        "outputId": "97caabf8-372e-4554-985f-349023c385b2"
      },
      "id": "RVx_Hv-AQi_H",
      "execution_count": 17,
      "outputs": [
        {
          "output_type": "stream",
          "name": "stdout",
          "text": [
            "{'_id': ObjectId('63a05b2d3e38f489a7240e8a'), 'Symbol': 'BTC-USD', 'Name': 'Bitcoin USD', 'Price (Intraday)': '16,739.45', 'Change': '+14.24', '% Change': '+0.09%', 'Market Cap': '322.033B', 'Volume in Currency (Since 0:00 UTC)': '12.693B', 'Volume in Currency (24Hr)': '12.693B', 'Total Volume All Currencies (24Hr)': '12.693B', 'Circulating Supply': '19.238M'}\n",
            "{'_id': ObjectId('63a05b2d3e38f489a7240e8b'), 'Symbol': 'ETH-USD', 'Name': 'Ethereum USD', 'Price (Intraday)': '1,184.23', 'Change': '+1.48', '% Change': '+0.13%', 'Market Cap': '144.919B', 'Volume in Currency (Since 0:00 UTC)': '3.896B', 'Volume in Currency (24Hr)': '3.896B', 'Total Volume All Currencies (24Hr)': '3.896B', 'Circulating Supply': '122.374M'}\n",
            "{'_id': ObjectId('63a05b2d3e38f489a7240e8c'), 'Symbol': 'USDT-USD', 'Name': 'Tether USD', 'Price (Intraday)': '1.0001', 'Change': '+0.0000', '% Change': '+0.00%', 'Market Cap': '66.167B', 'Volume in Currency (Since 0:00 UTC)': '16.337B', 'Volume in Currency (24Hr)': '16.337B', 'Total Volume All Currencies (24Hr)': '16.337B', 'Circulating Supply': '66.157B'}\n",
            "{'_id': ObjectId('63a05b2d3e38f489a7240e8d'), 'Symbol': 'USDC-USD', 'Name': 'USD Coin USD', 'Price (Intraday)': '0.999997', 'Change': '-0.000199', '% Change': '-0.02%', 'Market Cap': '45.07B', 'Volume in Currency (Since 0:00 UTC)': '1.872B', 'Volume in Currency (24Hr)': '1.872B', 'Total Volume All Currencies (24Hr)': '1.872B', 'Circulating Supply': '45.07B'}\n",
            "{'_id': ObjectId('63a05b2d3e38f489a7240e8e'), 'Symbol': 'BNB-USD', 'Name': 'BNB USD', 'Price (Intraday)': '247.48', 'Change': '+0.54', '% Change': '+0.22%', 'Market Cap': '39.589B', 'Volume in Currency (Since 0:00 UTC)': '713.158M', 'Volume in Currency (24Hr)': '713.158M', 'Total Volume All Currencies (24Hr)': '713.158M', 'Circulating Supply': '159.967M'}\n",
            "{'_id': ObjectId('63a05b2d3e38f489a7240e8f'), 'Symbol': 'BUSD-USD', 'Name': 'Binance USD USD', 'Price (Intraday)': '0.999835', 'Change': '-0.000204', '% Change': '-0.02%', 'Market Cap': '18.439B', 'Volume in Currency (Since 0:00 UTC)': '3.133B', 'Volume in Currency (24Hr)': '3.133B', 'Total Volume All Currencies (24Hr)': '3.133B', 'Circulating Supply': '18.442B'}\n",
            "{'_id': ObjectId('63a05b2d3e38f489a7240e90'), 'Symbol': 'XRP-USD', 'Name': 'XRP USD', 'Price (Intraday)': '0.341377', 'Change': '-0.010673', '% Change': '-3.03%', 'Market Cap': '17.186B', 'Volume in Currency (Since 0:00 UTC)': '699.281M', 'Volume in Currency (24Hr)': '699.281M', 'Total Volume All Currencies (24Hr)': '699.281M', 'Circulating Supply': '50.344B'}\n",
            "{'_id': ObjectId('63a05b2d3e38f489a7240e91'), 'Symbol': 'DOGE-USD', 'Name': 'Dogecoin USD', 'Price (Intraday)': '0.077289', 'Change': '-0.001058', '% Change': '-1.35%', 'Market Cap': '10.254B', 'Volume in Currency (Since 0:00 UTC)': '303.474M', 'Volume in Currency (24Hr)': '303.474M', 'Total Volume All Currencies (24Hr)': '303.474M', 'Circulating Supply': '132.671B'}\n",
            "{'_id': ObjectId('63a05b2d3e38f489a7240e92'), 'Symbol': 'ADA-USD', 'Name': 'Cardano USD', 'Price (Intraday)': '0.263713', 'Change': '-0.002263', '% Change': '-0.85%', 'Market Cap': '9.094B', 'Volume in Currency (Since 0:00 UTC)': '148.942M', 'Volume in Currency (24Hr)': '148.942M', 'Total Volume All Currencies (24Hr)': '148.942M', 'Circulating Supply': '34.485B'}\n",
            "{'_id': ObjectId('63a05b2d3e38f489a7240e93'), 'Symbol': 'MATIC-USD', 'Name': 'Polygon USD', 'Price (Intraday)': '0.791129', 'Change': '-0.021447', '% Change': '-2.64%', 'Market Cap': '6.91B', 'Volume in Currency (Since 0:00 UTC)': '242.329M', 'Volume in Currency (24Hr)': '242.329M', 'Total Volume All Currencies (24Hr)': '242.329M', 'Circulating Supply': '8.734B'}\n",
            "{'_id': ObjectId('63a05b2d3e38f489a7240e94'), 'Symbol': 'DAI-USD', 'Name': 'Dai USD', 'Price (Intraday)': '0.999287', 'Change': '-0.000547', '% Change': '-0.05%', 'Market Cap': '5.843B', 'Volume in Currency (Since 0:00 UTC)': '99.957M', 'Volume in Currency (24Hr)': '99.957M', 'Total Volume All Currencies (24Hr)': '99.957M', 'Circulating Supply': '5.847B'}\n",
            "{'_id': ObjectId('63a05b2d3e38f489a7240e95'), 'Symbol': 'WTRX-USD', 'Name': 'Wrapped TRON USD', 'Price (Intraday)': '0.053830', 'Change': '-0.000361', '% Change': '-0.67%', 'Market Cap': '5.473B', 'Volume in Currency (Since 0:00 UTC)': '892,710', 'Volume in Currency (24Hr)': '892,710', 'Total Volume All Currencies (24Hr)': '892,710', 'Circulating Supply': '101.676B'}\n",
            "{'_id': ObjectId('63a05b2d3e38f489a7240e96'), 'Symbol': 'DOT-USD', 'Name': 'Polkadot USD', 'Price (Intraday)': '4.6211', 'Change': '-0.0390', '% Change': '-0.84%', 'Market Cap': '5.307B', 'Volume in Currency (Since 0:00 UTC)': '119.904M', 'Volume in Currency (24Hr)': '119.904M', 'Total Volume All Currencies (24Hr)': '119.904M', 'Circulating Supply': '1.148B'}\n",
            "{'_id': ObjectId('63a05b2d3e38f489a7240e97'), 'Symbol': 'TRX-USD', 'Name': 'TRON USD', 'Price (Intraday)': '0.053859', 'Change': '-0.000104', '% Change': '-0.19%', 'Market Cap': '4.956B', 'Volume in Currency (Since 0:00 UTC)': '157.726M', 'Volume in Currency (24Hr)': '157.726M', 'Total Volume All Currencies (24Hr)': '157.726M', 'Circulating Supply': '92.021B'}\n",
            "{'_id': ObjectId('63a05b2d3e38f489a7240e98'), 'Symbol': 'SHIB-USD', 'Name': 'Shiba Inu USD', 'Price (Intraday)': '0.00000871', 'Change': '+0.00000019', '% Change': '+2.19%', 'Market Cap': '4.78B', 'Volume in Currency (Since 0:00 UTC)': '126.054M', 'Volume in Currency (24Hr)': '126.054M', 'Total Volume All Currencies (24Hr)': '126.054M', 'Circulating Supply': '549.063T'}\n",
            "{'_id': ObjectId('63a05b2d3e38f489a7240e99'), 'Symbol': 'LTC-USD', 'Name': 'Litecoin USD', 'Price (Intraday)': '63.45', 'Change': '-0.63', '% Change': '-0.98%', 'Market Cap': '4.559B', 'Volume in Currency (Since 0:00 UTC)': '361.279M', 'Volume in Currency (24Hr)': '361.279M', 'Total Volume All Currencies (24Hr)': '361.279M', 'Circulating Supply': '71.862M'}\n",
            "{'_id': ObjectId('63a05b2d3e38f489a7240e9a'), 'Symbol': 'SOL-USD', 'Name': 'Solana USD', 'Price (Intraday)': '12.26', 'Change': '-0.15', '% Change': '-1.17%', 'Market Cap': '4.497B', 'Volume in Currency (Since 0:00 UTC)': '145.764M', 'Volume in Currency (24Hr)': '145.764M', 'Total Volume All Currencies (24Hr)': '145.764M', 'Circulating Supply': '366.697M'}\n",
            "{'_id': ObjectId('63a05b2d3e38f489a7240e9b'), 'Symbol': 'HEX-USD', 'Name': 'HEX USD', 'Price (Intraday)': '0.025336', 'Change': '-0.000145', '% Change': '-0.57%', 'Market Cap': '4.394B', 'Volume in Currency (Since 0:00 UTC)': '2.571M', 'Volume in Currency (24Hr)': '2.571M', 'Total Volume All Currencies (24Hr)': '2.571M', 'Circulating Supply': '173.411B'}\n",
            "{'_id': ObjectId('63a05b2d3e38f489a7240e9c'), 'Symbol': 'UNI7083-USD', 'Name': 'Uniswap USD', 'Price (Intraday)': '5.3055', 'Change': '-0.0514', '% Change': '-0.96%', 'Market Cap': '4.044B', 'Volume in Currency (Since 0:00 UTC)': '41.357M', 'Volume in Currency (24Hr)': '41.357M', 'Total Volume All Currencies (24Hr)': '41.357M', 'Circulating Supply': '762.209M'}\n",
            "{'_id': ObjectId('63a05b2d3e38f489a7240e9d'), 'Symbol': 'STETH-USD', 'Name': 'Lido Staked ETH USD', 'Price (Intraday)': '1,156.59', 'Change': '-12.70', '% Change': '-1.09%', 'Market Cap': '4.034B', 'Volume in Currency (Since 0:00 UTC)': '12.303M', 'Volume in Currency (24Hr)': '12.303M', 'Total Volume All Currencies (24Hr)': '12.303M', 'Circulating Supply': '3.488M'}\n",
            "{'_id': ObjectId('63a05b2d3e38f489a7240e9e'), 'Symbol': 'AVAX-USD', 'Name': 'Avalanche USD', 'Price (Intraday)': '11.95', 'Change': '+0.05', '% Change': '+0.41%', 'Market Cap': '3.716B', 'Volume in Currency (Since 0:00 UTC)': '118.688M', 'Volume in Currency (24Hr)': '118.688M', 'Total Volume All Currencies (24Hr)': '118.688M', 'Circulating Supply': '311.093M'}\n",
            "{'_id': ObjectId('63a05b2d3e38f489a7240e9f'), 'Symbol': 'LEO-USD', 'Name': 'UNUS SED LEO USD', 'Price (Intraday)': '3.7667', 'Change': '-0.1990', '% Change': '-5.02%', 'Market Cap': '3.593B', 'Volume in Currency (Since 0:00 UTC)': '2.868M', 'Volume in Currency (24Hr)': '2.868M', 'Total Volume All Currencies (24Hr)': '2.868M', 'Circulating Supply': '953.954M'}\n",
            "{'_id': ObjectId('63a05b2d3e38f489a7240ea0'), 'Symbol': 'TON11419-USD', 'Name': 'Toncoin USD', 'Price (Intraday)': '2.6045', 'Change': '-0.1241', '% Change': '-4.55%', 'Market Cap': '3.181B', 'Volume in Currency (Since 0:00 UTC)': '49.866M', 'Volume in Currency (24Hr)': '49.866M', 'Total Volume All Currencies (24Hr)': '49.866M', 'Circulating Supply': '1.221B'}\n",
            "{'_id': ObjectId('63a05b2d3e38f489a7240ea1'), 'Symbol': 'WBTC-USD', 'Name': 'Wrapped Bitcoin USD', 'Price (Intraday)': '16,708.73', 'Change': '+12.09', '% Change': '+0.07%', 'Market Cap': '3.108B', 'Volume in Currency (Since 0:00 UTC)': '62.465M', 'Volume in Currency (24Hr)': '62.465M', 'Total Volume All Currencies (24Hr)': '62.465M', 'Circulating Supply': '186,009'}\n",
            "{'_id': ObjectId('63a05b2d3e38f489a7240ea2'), 'Symbol': 'LINK-USD', 'Name': 'Chainlink USD', 'Price (Intraday)': '6.0056', 'Change': '+0.0172', '% Change': '+0.29%', 'Market Cap': '3.051B', 'Volume in Currency (Since 0:00 UTC)': '147.202M', 'Volume in Currency (24Hr)': '147.202M', 'Total Volume All Currencies (24Hr)': '147.202M', 'Circulating Supply': '508M'}\n",
            "{'_id': ObjectId('63a05b2d3e38f489a7240ea3'), 'Symbol': 'BTC-USD', 'Name': 'Bitcoin USD', 'Price (Intraday)': '16,739.45', 'Change': '+14.24', '% Change': '+1.00%', 'Market Cap': '2.643B', 'Volume in Currency (Since 0:00 UTC)': '52.78M', 'Volume in Currency (24Hr)': '52.78M', 'Total Volume All Currencies (24Hr)': '52.78M', 'Circulating Supply': '18.216M'}\n",
            "{'_id': ObjectId('63a05b2d3e38f489a7240ea4'), 'Symbol': 'ATOM-USD', 'Name': 'Cosmos USD', 'Price (Intraday)': '8.8946', 'Change': '+0.0335', '% Change': '+0.38%', 'Market Cap': '2.547B', 'Volume in Currency (Since 0:00 UTC)': '78.67M', 'Volume in Currency (24Hr)': '78.67M', 'Total Volume All Currencies (24Hr)': '78.67M', 'Circulating Supply': '286.37M'}\n",
            "{'_id': ObjectId('63a05b2d3e38f489a7240ea5'), 'Symbol': 'ETC-USD', 'Name': 'Ethereum Classic USD', 'Price (Intraday)': '15.81', 'Change': '-0.22', '% Change': '-1.39%', 'Market Cap': '2.188B', 'Volume in Currency (Since 0:00 UTC)': '85.763M', 'Volume in Currency (24Hr)': '85.763M', 'Total Volume All Currencies (24Hr)': '85.763M', 'Circulating Supply': '138.441M'}\n",
            "{'_id': ObjectId('63a05b2d3e38f489a7240ea6'), 'Symbol': 'XLM-USD', 'Name': 'Stellar USD', 'Price (Intraday)': '0.076589', 'Change': '+0.000203', '% Change': '+0.27%', 'Market Cap': '1.996B', 'Volume in Currency (Since 0:00 UTC)': '32.737M', 'Volume in Currency (24Hr)': '32.737M', 'Total Volume All Currencies (24Hr)': '32.737M', 'Circulating Supply': '26.068B'}\n",
            "{'_id': ObjectId('63a05b2d3e38f489a7240ea7'), 'Symbol': 'BCH-USD', 'Name': 'Bitcoin Cash USD', 'Price (Intraday)': '101.51', 'Change': '-1.01', '% Change': '-0.99%', 'Market Cap': '1.955B', 'Volume in Currency (Since 0:00 UTC)': '104.325M', 'Volume in Currency (24Hr)': '104.325M', 'Total Volume All Currencies (24Hr)': '104.325M', 'Circulating Supply': '19.26M'}\n",
            "{'_id': ObjectId('63a05b2d3e38f489a7240ea8'), 'Symbol': 'CRO-USD', 'Name': 'Cronos USD', 'Price (Intraday)': '0.056840', 'Change': '+0.000444', '% Change': '+0.79%', 'Market Cap': '1.436B', 'Volume in Currency (Since 0:00 UTC)': '10.616M', 'Volume in Currency (24Hr)': '10.616M', 'Total Volume All Currencies (24Hr)': '10.616M', 'Circulating Supply': '25.263B'}\n",
            "{'_id': ObjectId('63a05b2d3e38f489a7240ea9'), 'Symbol': 'QNT-USD', 'Name': 'Quant USD', 'Price (Intraday)': '110.45', 'Change': '+1.33', '% Change': '+1.21%', 'Market Cap': '1.333B', 'Volume in Currency (Since 0:00 UTC)': '21.705M', 'Volume in Currency (24Hr)': '21.705M', 'Total Volume All Currencies (24Hr)': '21.705M', 'Circulating Supply': '12.073M'}\n",
            "{'_id': ObjectId('63a05b2d3e38f489a7240eaa'), 'Symbol': 'ALGO-USD', 'Name': 'Algorand USD', 'Price (Intraday)': '0.1847', 'Change': '-0.0068', '% Change': '-3.5397%', 'Market Cap': '1.318B', 'Volume in Currency (Since 0:00 UTC)': '46.648M', 'Volume in Currency (24Hr)': '46.648M', 'Total Volume All Currencies (24Hr)': '46.648M', 'Circulating Supply': '7.134B'}\n",
            "{'_id': ObjectId('63a05b2d3e38f489a7240eab'), 'Symbol': 'OKB-USD', 'Name': 'OKB USD', 'Price (Intraday)': '21.54', 'Change': '-1.04', '% Change': '-4.63%', 'Market Cap': '1.292B', 'Volume in Currency (Since 0:00 UTC)': '15.674M', 'Volume in Currency (24Hr)': '15.674M', 'Total Volume All Currencies (24Hr)': '15.674M', 'Circulating Supply': '60M'}\n",
            "{'_id': ObjectId('63a05b2d3e38f489a7240eac'), 'Symbol': 'APE18876-USD', 'Name': 'ApeCoin USD', 'Price (Intraday)': '3.5205', 'Change': '+0.0272', '% Change': '+0.7799%', 'Market Cap': '1.272B', 'Volume in Currency (Since 0:00 UTC)': '84.189M', 'Volume in Currency (24Hr)': '84.189M', 'Total Volume All Currencies (24Hr)': '84.189M', 'Circulating Supply': '361.25M'}\n",
            "{'_id': ObjectId('63a05b2d3e38f489a7240ead'), 'Symbol': 'VET-USD', 'Name': 'VeChain USD', 'Price (Intraday)': '0.0166', 'Change': '-0.0001', '% Change': '-0.5117%', 'Market Cap': '1.206B', 'Volume in Currency (Since 0:00 UTC)': '26.808M', 'Volume in Currency (24Hr)': '26.808M', 'Total Volume All Currencies (24Hr)': '26.808M', 'Circulating Supply': '72.511B'}\n",
            "{'_id': ObjectId('63a05b2d3e38f489a7240eae'), 'Symbol': 'NEAR-USD', 'Name': 'NEAR Protocol USD', 'Price (Intraday)': '1.3476', 'Change': '-0.0220', '% Change': '-1.6059%', 'Market Cap': '1.136B', 'Volume in Currency (Since 0:00 UTC)': '49.475M', 'Volume in Currency (24Hr)': '49.475M', 'Total Volume All Currencies (24Hr)': '49.475M', 'Circulating Supply': '843.293M'}\n",
            "{'_id': ObjectId('63a05b2d3e38f489a7240eaf'), 'Symbol': 'HBAR-USD', 'Name': 'Hedera USD', 'Price (Intraday)': '0.0434', 'Change': '-0.0006', '% Change': '-1.3987%', 'Market Cap': '1.082B', 'Volume in Currency (Since 0:00 UTC)': '10.421M', 'Volume in Currency (24Hr)': '10.421M', 'Total Volume All Currencies (24Hr)': '10.421M', 'Circulating Supply': '24.906B'}\n",
            "{'_id': ObjectId('63a05b2d3e38f489a7240eb0'), 'Symbol': 'FIL-USD', 'Name': 'Filecoin USD', 'Price (Intraday)': '3.0303', 'Change': '-0.0990', '% Change': '-3.1633%', 'Market Cap': '1.041B', 'Volume in Currency (Since 0:00 UTC)': '88.701M', 'Volume in Currency (24Hr)': '88.701M', 'Total Volume All Currencies (24Hr)': '88.701M', 'Circulating Supply': '343.679M'}\n",
            "{'_id': ObjectId('63a05b2d3e38f489a7240eb1'), 'Symbol': 'ICP-USD', 'Name': 'Internet Computer USD', 'Price (Intraday)': '3.7039', 'Change': '+0.0434', '% Change': '+1.1867%', 'Market Cap': '1.035B', 'Volume in Currency (Since 0:00 UTC)': '11.336M', 'Volume in Currency (24Hr)': '11.336M', 'Total Volume All Currencies (24Hr)': '11.336M', 'Circulating Supply': '279.526M'}\n",
            "{'_id': ObjectId('63a05b2d3e38f489a7240eb2'), 'Symbol': 'FRAX-USD', 'Name': 'Frax USD', 'Price (Intraday)': '0.9936', 'Change': '-0.0037', '% Change': '-0.3683%', 'Market Cap': '1.016B', 'Volume in Currency (Since 0:00 UTC)': '1.45M', 'Volume in Currency (24Hr)': '1.45M', 'Total Volume All Currencies (24Hr)': '1.45M', 'Circulating Supply': '1.023B'}\n",
            "{'_id': ObjectId('63a05b2d3e38f489a7240eb3'), 'Symbol': 'EOS-USD', 'Name': 'EOS USD', 'Price (Intraday)': '0.8853', 'Change': '+0.0025', '% Change': '+0.2869%', 'Market Cap': '953.785M', 'Volume in Currency (Since 0:00 UTC)': '109.197M', 'Volume in Currency (24Hr)': '109.197M', 'Total Volume All Currencies (24Hr)': '109.197M', 'Circulating Supply': '1.077B'}\n",
            "{'_id': ObjectId('63a05b2d3e38f489a7240eb4'), 'Symbol': 'USDP-USD', 'Name': 'Pax Dollar USD', 'Price (Intraday)': '1.0008', 'Change': '+0.0025', '% Change': '+0.2518%', 'Market Cap': '946.437M', 'Volume in Currency (Since 0:00 UTC)': '839,280', 'Volume in Currency (24Hr)': '839,280', 'Total Volume All Currencies (24Hr)': '839,280', 'Circulating Supply': '945.643M'}\n",
            "{'_id': ObjectId('63a05b2d3e38f489a7240eb5'), 'Symbol': 'WBNB-USD', 'Name': 'Wrapped BNB USD', 'Price (Intraday)': '246.99', 'Change': '-0.48', '% Change': '-0.19%', 'Market Cap': '930.056M', 'Volume in Currency (Since 0:00 UTC)': '62.578M', 'Volume in Currency (24Hr)': '62.578M', 'Total Volume All Currencies (24Hr)': '62.578M', 'Circulating Supply': '3.766M'}\n",
            "{'_id': ObjectId('63a05b2d3e38f489a7240eb6'), 'Symbol': 'EGLD-USD', 'Name': 'MultiversX (Elrond) USD', 'Price (Intraday)': '39.06', 'Change': '+0.06', '% Change': '+0.15%', 'Market Cap': '931.423M', 'Volume in Currency (Since 0:00 UTC)': '13.923M', 'Volume in Currency (24Hr)': '13.923M', 'Total Volume All Currencies (24Hr)': '13.923M', 'Circulating Supply': '23.845M'}\n",
            "{'_id': ObjectId('63a05b2d3e38f489a7240eb7'), 'Symbol': 'BTCB-USD', 'Name': 'Bitcoin BEP2 USD', 'Price (Intraday)': '16,695.78', 'Change': '-25.10', '% Change': '-0.15%', 'Market Cap': '892.685M', 'Volume in Currency (Since 0:00 UTC)': '2.629M', 'Volume in Currency (24Hr)': '2.629M', 'Total Volume All Currencies (24Hr)': '2.629M', 'Circulating Supply': '53,467'}\n",
            "{'_id': ObjectId('63a05b2d3e38f489a7240eb8'), 'Symbol': 'BSV-USD', 'Name': 'Bitcoin SV USD', 'Price (Intraday)': '44.60', 'Change': '-0.60', '% Change': '-1.33%', 'Market Cap': '858.898M', 'Volume in Currency (Since 0:00 UTC)': '96.246M', 'Volume in Currency (24Hr)': '96.246M', 'Total Volume All Currencies (24Hr)': '96.246M', 'Circulating Supply': '19.256M'}\n",
            "{'_id': ObjectId('63a05b2d3e38f489a7240eb9'), 'Symbol': 'LUNC-USD', 'Name': 'Terra Classic USD', 'Price (Intraday)': '0.0001', 'Change': '-0.0000', '% Change': '-1.5738%', 'Market Cap': '833.360M', 'Volume in Currency (Since 0:00 UTC)': '46.577M', 'Volume in Currency (24Hr)': '46.577M', 'Total Volume All Currencies (24Hr)': '46.577M', 'Circulating Supply': '5.966T'}\n",
            "{'_id': ObjectId('63a05b2d3e38f489a7240eba'), 'Symbol': 'HT-USD', 'Name': 'Huobi Token USD', 'Price (Intraday)': '5.42', 'Change': '-0.09', '% Change': '-1.62%', 'Market Cap': '831.317M', 'Volume in Currency (Since 0:00 UTC)': '8.641M', 'Volume in Currency (24Hr)': '8.641M', 'Total Volume All Currencies (24Hr)': '8.641M', 'Circulating Supply': '153.358M'}\n",
            "{'_id': ObjectId('63a05b2d3e38f489a7240ebb'), 'Symbol': 'FLOW-USD', 'Name': 'Flow USD', 'Price (Intraday)': '0.7646', 'Change': '+0.0027', '% Change': '+0.3514%', 'Market Cap': '792.246M', 'Volume in Currency (Since 0:00 UTC)': '13.943M', 'Volume in Currency (24Hr)': '13.943M', 'Total Volume All Currencies (24Hr)': '13.943M', 'Circulating Supply': '1.036B'}\n"
          ]
        }
      ]
    },
    {
      "cell_type": "code",
      "execution_count": 18,
      "id": "30f67530",
      "metadata": {
        "id": "30f67530",
        "colab": {
          "base_uri": "https://localhost:8080/"
        },
        "outputId": "636bcda8-53b4-482b-afa8-c86473f7e7b9"
      },
      "outputs": [
        {
          "output_type": "stream",
          "name": "stdout",
          "text": [
            "There doesn't seem to be a server running with dbpath: /data/db\n"
          ]
        }
      ],
      "source": [
        "# Shutdown mongodb, don't run this until you are done otherwise the db instance will be closed\n",
        "!mongod --shutdown"
      ]
    }
  ],
  "metadata": {
    "kernelspec": {
      "display_name": "Python 3 (ipykernel)",
      "language": "python",
      "name": "python3"
    },
    "language_info": {
      "codemirror_mode": {
        "name": "ipython",
        "version": 3
      },
      "file_extension": ".py",
      "mimetype": "text/x-python",
      "name": "python",
      "nbconvert_exporter": "python",
      "pygments_lexer": "ipython3",
      "version": "3.10.8"
    },
    "colab": {
      "provenance": []
    }
  },
  "nbformat": 4,
  "nbformat_minor": 5
}